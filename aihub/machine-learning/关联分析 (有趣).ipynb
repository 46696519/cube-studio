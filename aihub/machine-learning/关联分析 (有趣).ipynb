{
 "cells": [
  {
   "cell_type": "markdown",
   "metadata": {},
   "source": [
    "# 关联规则不一定都是有趣"
   ]
  },
  {
   "cell_type": "markdown",
   "metadata": {},
   "source": [
    "例如，一个谷类早餐的零售商对 5000 名 学生的调查的案例。 用来研究是否在学生打完篮球后向学生推荐早餐。\n"
   ]
  },
  {
   "cell_type": "markdown",
   "metadata": {},
   "source": [
    "数据表明： \n",
    "\n",
    "60%的学生早上会先打篮球\n",
    "\n",
    "75%的学生吃这类早餐（包含打篮球后吃早餐的和不打篮球直接吃早餐的）\n",
    "\n",
    "40% 的学生既打篮球又吃这类早餐"
   ]
  },
  {
   "cell_type": "markdown",
   "metadata": {},
   "source": [
    "假设支持度阈值 s=0.4，置信度阈值 c=60%。基于上面数据和假设我们可挖掘出强关联规则“(打篮球)→(吃早餐)”"
   ]
  },
  {
   "cell_type": "markdown",
   "metadata": {},
   "source": [
    "因为其(打篮球) 和(吃早餐)的支持度都大于支持度阈值，都是频繁项，而规则的置信度 $c=\\frac{40\\%}{60\\%}=66.6\\%$也大于置信度阈值。"
   ]
  },
  {
   "cell_type": "markdown",
   "metadata": {},
   "source": [
    "\f",
    "然而，以上的关联规则很容易产生误解，因为吃早餐的比例为 75%，大于 66%。 "
   ]
  },
  {
   "cell_type": "markdown",
   "metadata": {},
   "source": [
    "也就是说，本来不打篮球先选择吃这种早餐的概率大于75%，但是打完篮球的学生就不想吃这种早餐或者不吃早餐了。\n",
    "\n",
    "因为打球后的学生吃这种早餐的概率降到了66%。"
   ]
  },
  {
   "cell_type": "markdown",
   "metadata": {},
   "source": [
    "所以打篮球与吃早餐实际上是负关联的。"
   ]
  },
  {
   "cell_type": "markdown",
   "metadata": {},
   "source": [
    "**所以强关联不一定是有趣的。**\n"
   ]
  },
  {
   "cell_type": "markdown",
   "metadata": {},
   "source": [
    "\n",
    "我们应该使用 **相关性度量**（这里使用提升读度量）来表征关联提升。\n",
    "\n",
    "也就是$P(B/A)/P(B)$来表示**在A出现的情况下推荐B是否比没出现A之前推荐B更好。**\n",
    "\n",
    "公式等价于$lift(A,B)=\\frac{P( A\\bigcup B)}{P(A)P(B)}$"
   ]
  }
 ],
 "metadata": {
  "kernelspec": {
   "display_name": "Python 3",
   "language": "python",
   "name": "python3"
  },
  "language_info": {
   "codemirror_mode": {
    "name": "ipython",
    "version": 3
   },
   "file_extension": ".py",
   "mimetype": "text/x-python",
   "name": "python",
   "nbconvert_exporter": "python",
   "pygments_lexer": "ipython3",
   "version": "3.6.9"
  }
 },
 "nbformat": 4,
 "nbformat_minor": 4
}
